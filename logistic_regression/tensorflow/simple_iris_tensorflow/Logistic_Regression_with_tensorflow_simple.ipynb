{
  "nbformat": 4,
  "nbformat_minor": 0,
  "metadata": {
    "colab": {
      "name": "Kaggle Logistic Regression with Tensor Flow",
      "version": "0.3.2",
      "views": {},
      "default_view": {},
      "provenance": [],
      "collapsed_sections": []
    },
    "kernelspec": {
      "name": "python2",
      "display_name": "Python 2"
    }
  },
  "cells": [
    {
      "metadata": {
        "id": "o3G4fEvkVLX0",
        "colab_type": "code",
        "colab": {
          "autoexec": {
            "startup": false,
            "wait_interval": 0
          }
        }
      },
      "cell_type": "code",
      "source": [
        "%matplotlib inline"
      ],
      "execution_count": 0,
      "outputs": []
    },
    {
      "metadata": {
        "id": "Gtz3toSTVtc2",
        "colab_type": "code",
        "colab": {
          "autoexec": {
            "startup": false,
            "wait_interval": 0
          }
        }
      },
      "cell_type": "code",
      "source": [
        "import numpy as np # linear algebra\n",
        "import seaborn as sns\n",
        "sns.set(style='whitegrid')\n",
        "import pandas as pd # data processing, CSV file I/O (e.g. pd.read_csv)\n",
        "import matplotlib.pyplot as plt\n",
        "import tensorflow as tf\n",
        "from sklearn import datasets"
      ],
      "execution_count": 0,
      "outputs": []
    },
    {
      "metadata": {
        "id": "ojdh1lxvbS3l",
        "colab_type": "code",
        "colab": {
          "autoexec": {
            "startup": false,
            "wait_interval": 0
          }
        }
      },
      "cell_type": "code",
      "source": [
        "iris = pd.read_csv(\"https://raw.githubusercontent.com/hackintoshrao/ML-DL-AI-Projects/master/logistic_regression/simple_tensorflow/Iris.csv\")"
      ],
      "execution_count": 0,
      "outputs": []
    },
    {
      "metadata": {
        "id": "02Vn_8WachsC",
        "colab_type": "code",
        "colab": {
          "autoexec": {
            "startup": false,
            "wait_interval": 0
          },
          "base_uri": "https://localhost:8080/",
          "height": 34
        },
        "outputId": "e2e27eb4-5fbf-479f-e7b7-bcac4f21a018",
        "executionInfo": {
          "status": "ok",
          "timestamp": 1523925154256,
          "user_tz": -330,
          "elapsed": 802,
          "user": {
            "displayName": "karthic rao",
            "photoUrl": "//lh4.googleusercontent.com/-IjQPV2IT_dg/AAAAAAAAAAI/AAAAAAAAAKY/koCnnupHc0Y/s50-c-k-no/photo.jpg",
            "userId": "117034387844131328042"
          }
        }
      },
      "cell_type": "code",
      "source": [
        "iris.shape"
      ],
      "execution_count": 21,
      "outputs": [
        {
          "output_type": "execute_result",
          "data": {
            "text/plain": [
              "(150, 6)"
            ]
          },
          "metadata": {
            "tags": []
          },
          "execution_count": 21
        }
      ]
    },
    {
      "metadata": {
        "id": "QXHR1dxkcnv6",
        "colab_type": "text"
      },
      "cell_type": "markdown",
      "source": [
        "\n",
        "\n",
        "Here I want to do a binary classification, so keep the first 100 rows of data\n",
        "\n",
        "Iris-setosa species is linearly separable from the other two, but the other two are not linearly separable from each other.To keep the species blance Iris-setosa and Iris-versicolor are choosen\n"
      ]
    },
    {
      "metadata": {
        "id": "hnrnDBaUcvW5",
        "colab_type": "code",
        "colab": {
          "autoexec": {
            "startup": false,
            "wait_interval": 0
          }
        }
      },
      "cell_type": "code",
      "source": [
        "iris = iris[:100]"
      ],
      "execution_count": 0,
      "outputs": []
    },
    {
      "metadata": {
        "id": "EnBWOkVkcz9f",
        "colab_type": "text"
      },
      "cell_type": "markdown",
      "source": [
        "\n",
        "\n",
        "Step 2: Numerical processing\n",
        "\n",
        "    replace 'Iris-setosa' as 0\n",
        "    replace 'Iris-versicolor' as 1\n",
        "\n"
      ]
    },
    {
      "metadata": {
        "id": "Klv5-h6-cxxV",
        "colab_type": "code",
        "colab": {
          "autoexec": {
            "startup": false,
            "wait_interval": 0
          }
        }
      },
      "cell_type": "code",
      "source": [
        "iris.Species = iris.Species.replace(to_replace=['Iris-setosa', 'Iris-versicolor'], value=[0, 1])"
      ],
      "execution_count": 0,
      "outputs": []
    },
    {
      "metadata": {
        "id": "Jh2Wsx3-eXIf",
        "colab_type": "code",
        "colab": {
          "autoexec": {
            "startup": false,
            "wait_interval": 0
          },
          "base_uri": "https://localhost:8080/",
          "height": 378
        },
        "outputId": "3c3a3fed-bec9-4f2c-f9fd-a2687599a37c",
        "executionInfo": {
          "status": "ok",
          "timestamp": 1523925157656,
          "user_tz": -330,
          "elapsed": 840,
          "user": {
            "displayName": "karthic rao",
            "photoUrl": "//lh4.googleusercontent.com/-IjQPV2IT_dg/AAAAAAAAAAI/AAAAAAAAAKY/koCnnupHc0Y/s50-c-k-no/photo.jpg",
            "userId": "117034387844131328042"
          }
        }
      },
      "cell_type": "code",
      "source": [
        "plt.scatter(iris[:50].SepalLengthCm, iris[:50].SepalWidthCm, label=0)\n",
        "plt.scatter(iris[51:].SepalLengthCm, iris[51:].SepalWidthCm, label=1)\n",
        "plt.xlabel('SepalLength')\n",
        "plt.ylabel('SepalWidth')\n",
        "plt.legend(loc='best')"
      ],
      "execution_count": 24,
      "outputs": [
        {
          "output_type": "execute_result",
          "data": {
            "text/plain": [
              "<matplotlib.legend.Legend at 0x7f5db55f1150>"
            ]
          },
          "metadata": {
            "tags": []
          },
          "execution_count": 24
        },
        {
          "output_type": "display_data",
          "data": {
            "image/png": "[encoded data removed]",
            "text/plain": [
              "<matplotlib.figure.Figure at 0x7f5db55f1410>"
            ]
          },
          "metadata": {
            "tags": []
          }
        }
      ]
    },
    {
      "metadata": {
        "id": "EAAiz1r-ebg4",
        "colab_type": "code",
        "colab": {
          "autoexec": {
            "startup": false,
            "wait_interval": 0
          },
          "base_uri": "https://localhost:8080/",
          "height": 121
        },
        "outputId": "3f444d97-63d1-4177-ae14-102035a555a9",
        "executionInfo": {
          "status": "ok",
          "timestamp": 1523925159088,
          "user_tz": -330,
          "elapsed": 1116,
          "user": {
            "displayName": "karthic rao",
            "photoUrl": "//lh4.googleusercontent.com/-IjQPV2IT_dg/AAAAAAAAAAI/AAAAAAAAAKY/koCnnupHc0Y/s50-c-k-no/photo.jpg",
            "userId": "117034387844131328042"
          }
        }
      },
      "cell_type": "code",
      "source": [
        "\n",
        "\n",
        "print(iris.head())\n",
        "X = iris.drop(labels=['Id', 'Species'], axis=1).values\n",
        "y = iris.Species.values\n",
        "\n"
      ],
      "execution_count": 25,
      "outputs": [
        {
          "output_type": "stream",
          "text": [
            "   Id  SepalLengthCm  SepalWidthCm  PetalLengthCm  PetalWidthCm  Species\n",
            "0   1            5.1           3.5            1.4           0.2        0\n",
            "1   2            4.9           3.0            1.4           0.2        0\n",
            "2   3            4.7           3.2            1.3           0.2        0\n",
            "3   4            4.6           3.1            1.5           0.2        0\n",
            "4   5            5.0           3.6            1.4           0.2        0\n"
          ],
          "name": "stdout"
        }
      ]
    },
    {
      "metadata": {
        "id": "JVYbAoIvefBt",
        "colab_type": "text"
      },
      "cell_type": "markdown",
      "source": [
        "\n",
        "\n",
        "Step 3: Split data\n",
        "\n",
        "    trainset: 80%\n",
        "    testset: 20%\n"
      ]
    },
    {
      "metadata": {
        "id": "2LQrFP9Cegai",
        "colab_type": "code",
        "colab": {
          "autoexec": {
            "startup": false,
            "wait_interval": 0
          }
        }
      },
      "cell_type": "code",
      "source": [
        "# set seed for numpy and tensorflow\n",
        "# set for reproducible results\n",
        "seed = 5\n",
        "np.random.seed(seed)\n",
        "tf.set_random_seed(seed)"
      ],
      "execution_count": 0,
      "outputs": []
    },
    {
      "metadata": {
        "id": "dc6F0YfYekve",
        "colab_type": "code",
        "colab": {
          "autoexec": {
            "startup": false,
            "wait_interval": 0
          }
        }
      },
      "cell_type": "code",
      "source": [
        "# set replace=False, Avoid double sampling\n",
        "train_index = np.random.choice(len(X), int(len(X) * 0.8), replace=False)"
      ],
      "execution_count": 0,
      "outputs": []
    },
    {
      "metadata": {
        "id": "r8IimbGqe5du",
        "colab_type": "code",
        "colab": {
          "autoexec": {
            "startup": false,
            "wait_interval": 0
          }
        }
      },
      "cell_type": "code",
      "source": [
        "# diff set\n",
        "test_index = np.array(list(set(range(len(X))) - set(train_index)))\n",
        "train_X = X[train_index]\n",
        "train_y = y[train_index]\n",
        "test_X = X[test_index]\n",
        "test_y = y[test_index]"
      ],
      "execution_count": 0,
      "outputs": []
    },
    {
      "metadata": {
        "id": "7TaXBLX9fHl5",
        "colab_type": "code",
        "colab": {
          "autoexec": {
            "startup": false,
            "wait_interval": 0
          }
        }
      },
      "cell_type": "code",
      "source": [
        "# Define the normalized function\n",
        "def min_max_normalized(data):\n",
        "    col_max = np.max(data, axis=0)\n",
        "    col_min = np.min(data, axis=0)\n",
        "    return np.divide(data - col_min, col_max - col_min)"
      ],
      "execution_count": 0,
      "outputs": []
    },
    {
      "metadata": {
        "id": "MFuvovIDfLbc",
        "colab_type": "text"
      },
      "cell_type": "markdown",
      "source": [
        "Step 4: Normalized processing"
      ]
    },
    {
      "metadata": {
        "id": "j5T3S1JVfKV6",
        "colab_type": "code",
        "colab": {
          "autoexec": {
            "startup": false,
            "wait_interval": 0
          }
        }
      },
      "cell_type": "code",
      "source": [
        "# Normalized processing, must be placed after the data set segmentation, \n",
        "# otherwise the test set will be affected by the training set\n",
        "train_X = min_max_normalized(train_X)\n",
        "test_X = min_max_normalized(test_X)"
      ],
      "execution_count": 0,
      "outputs": []
    },
    {
      "metadata": {
        "id": "gA5RRtS9fSkS",
        "colab_type": "text"
      },
      "cell_type": "markdown",
      "source": [
        "Step 5: Build the model framework\n"
      ]
    },
    {
      "metadata": {
        "id": "ci5imEfHfUMM",
        "colab_type": "code",
        "colab": {
          "autoexec": {
            "startup": false,
            "wait_interval": 0
          }
        }
      },
      "cell_type": "code",
      "source": [
        "# Begin building the model framework\n",
        "# Declare the variables that need to be learned and initialization\n",
        "# There are 4 features here, A's dimension is (4, 1)\n",
        "A = tf.Variable(tf.random_normal(shape=[4, 1]))\n",
        "b = tf.Variable(tf.random_normal(shape=[1, 1]))\n",
        "init = tf.global_variables_initializer()\n",
        "sess = tf.Session()\n",
        "sess.run(init)"
      ],
      "execution_count": 0,
      "outputs": []
    },
    {
      "metadata": {
        "id": "wlruedcofXfS",
        "colab_type": "code",
        "colab": {
          "autoexec": {
            "startup": false,
            "wait_interval": 0
          }
        }
      },
      "cell_type": "code",
      "source": [
        "# Define placeholders\n",
        "data = tf.placeholder(dtype=tf.float32, shape=[None, 4])\n",
        "target = tf.placeholder(dtype=tf.float32, shape=[None, 1])"
      ],
      "execution_count": 0,
      "outputs": []
    },
    {
      "metadata": {
        "id": "p_6DjqWofZck",
        "colab_type": "code",
        "colab": {
          "autoexec": {
            "startup": false,
            "wait_interval": 0
          }
        }
      },
      "cell_type": "code",
      "source": [
        "# Declare the model you need to learn\n",
        "mod = tf.matmul(data, A) + b"
      ],
      "execution_count": 0,
      "outputs": []
    },
    {
      "metadata": {
        "id": "fx6b8HcRfcsC",
        "colab_type": "code",
        "colab": {
          "autoexec": {
            "startup": false,
            "wait_interval": 0
          }
        }
      },
      "cell_type": "code",
      "source": [
        "# Declare loss function\n",
        "# Use the sigmoid cross-entropy loss function,\n",
        "# first doing a sigmoid on the model result and then using the cross-entropy loss function\n",
        "loss = tf.reduce_mean(tf.nn.sigmoid_cross_entropy_with_logits(logits=mod, labels=target))"
      ],
      "execution_count": 0,
      "outputs": []
    },
    {
      "metadata": {
        "id": "Ex8ozvDLfegY",
        "colab_type": "text"
      },
      "cell_type": "markdown",
      "source": [
        "Define the learning rate， batch_size etc."
      ]
    },
    {
      "metadata": {
        "id": "SDeJhkvvfgs7",
        "colab_type": "code",
        "colab": {
          "autoexec": {
            "startup": false,
            "wait_interval": 0
          }
        }
      },
      "cell_type": "code",
      "source": [
        "learning_rate = 0.003\n",
        "batch_size = 30\n",
        "iter_num = 1500"
      ],
      "execution_count": 0,
      "outputs": []
    },
    {
      "metadata": {
        "id": "hj3UwunqfjZ8",
        "colab_type": "text"
      },
      "cell_type": "markdown",
      "source": [
        "Define the optimizer"
      ]
    },
    {
      "metadata": {
        "id": "FgCn5-TgftV0",
        "colab_type": "code",
        "colab": {
          "autoexec": {
            "startup": false,
            "wait_interval": 0
          }
        }
      },
      "cell_type": "code",
      "source": [
        "opt = tf.train.GradientDescentOptimizer(learning_rate)"
      ],
      "execution_count": 0,
      "outputs": []
    },
    {
      "metadata": {
        "id": "KYnB7Rv_fwo_",
        "colab_type": "text"
      },
      "cell_type": "markdown",
      "source": [
        "Define the goal"
      ]
    },
    {
      "metadata": {
        "id": "duqTLJYbfxP6",
        "colab_type": "code",
        "colab": {
          "autoexec": {
            "startup": false,
            "wait_interval": 0
          }
        }
      },
      "cell_type": "code",
      "source": [
        "goal = opt.minimize(loss)"
      ],
      "execution_count": 0,
      "outputs": []
    },
    {
      "metadata": {
        "id": "W6lGloyYfzSC",
        "colab_type": "text"
      },
      "cell_type": "markdown",
      "source": [
        "Define the accuracy\n",
        "\n",
        "The default threshold is 0.5, rounded off directly"
      ]
    },
    {
      "metadata": {
        "id": "Y_fTh4Jsf4K8",
        "colab_type": "code",
        "colab": {
          "autoexec": {
            "startup": false,
            "wait_interval": 0
          }
        }
      },
      "cell_type": "code",
      "source": [
        "prediction = tf.round(tf.sigmoid(mod))"
      ],
      "execution_count": 0,
      "outputs": []
    },
    {
      "metadata": {
        "id": "49GgH-Axf-V9",
        "colab_type": "text"
      },
      "cell_type": "markdown",
      "source": [
        "Bool into float32 type"
      ]
    },
    {
      "metadata": {
        "id": "mFrgAus2gARP",
        "colab_type": "code",
        "colab": {
          "autoexec": {
            "startup": false,
            "wait_interval": 0
          }
        }
      },
      "cell_type": "code",
      "source": [
        "correct = tf.cast(tf.equal(prediction, target), dtype=tf.float32)"
      ],
      "execution_count": 0,
      "outputs": []
    },
    {
      "metadata": {
        "id": "CwoHi1McgJix",
        "colab_type": "text"
      },
      "cell_type": "markdown",
      "source": [
        "Average"
      ]
    },
    {
      "metadata": {
        "id": "iPDM0MTggKQg",
        "colab_type": "code",
        "colab": {
          "autoexec": {
            "startup": false,
            "wait_interval": 0
          }
        }
      },
      "cell_type": "code",
      "source": [
        "accuracy = tf.reduce_mean(correct)"
      ],
      "execution_count": 0,
      "outputs": []
    },
    {
      "metadata": {
        "id": "QirsQq-GgNv3",
        "colab_type": "text"
      },
      "cell_type": "markdown",
      "source": [
        "Start training model\n",
        "Define the variable that stores the result"
      ]
    },
    {
      "metadata": {
        "id": "f1YsfWnjgPpN",
        "colab_type": "code",
        "colab": {
          "autoexec": {
            "startup": false,
            "wait_interval": 0
          }
        }
      },
      "cell_type": "code",
      "source": [
        "loss_trace = []\n",
        "train_acc = []\n",
        "test_acc = []"
      ],
      "execution_count": 0,
      "outputs": []
    },
    {
      "metadata": {
        "id": "NMkLspQPgUOv",
        "colab_type": "text"
      },
      "cell_type": "markdown",
      "source": [
        "Step 6: Model training"
      ]
    },
    {
      "metadata": {
        "id": "aUzFLi0EgWjh",
        "colab_type": "code",
        "colab": {
          "autoexec": {
            "startup": false,
            "wait_interval": 0
          },
          "base_uri": "https://localhost:8080/",
          "height": 104
        },
        "outputId": "daae015e-160f-40cf-9354-54fa248c32bd",
        "executionInfo": {
          "status": "ok",
          "timestamp": 1523925182650,
          "user_tz": -330,
          "elapsed": 3084,
          "user": {
            "displayName": "karthic rao",
            "photoUrl": "//lh4.googleusercontent.com/-IjQPV2IT_dg/AAAAAAAAAAI/AAAAAAAAAKY/koCnnupHc0Y/s50-c-k-no/photo.jpg",
            "userId": "117034387844131328042"
          }
        }
      },
      "cell_type": "code",
      "source": [
        "# training model\n",
        "for epoch in range(iter_num):\n",
        "    # Generate random batch index\n",
        "    batch_index = np.random.choice(len(train_X), size=batch_size)\n",
        "    batch_train_X = train_X[batch_index]\n",
        "    batch_train_y = np.matrix(train_y[batch_index]).T\n",
        "    sess.run(goal, feed_dict={data: batch_train_X, target: batch_train_y})\n",
        "    temp_loss = sess.run(loss, feed_dict={data: batch_train_X, target: batch_train_y})\n",
        "    # convert into a matrix, and the shape of the placeholder to correspond\n",
        "    temp_train_acc = sess.run(accuracy, feed_dict={data: train_X, target: np.matrix(train_y).T})\n",
        "    temp_test_acc = sess.run(accuracy, feed_dict={data: test_X, target: np.matrix(test_y).T})\n",
        "    # recode the result\n",
        "    loss_trace.append(temp_loss)\n",
        "    train_acc.append(temp_train_acc)\n",
        "    test_acc.append(temp_test_acc)\n",
        "    # output\n",
        "    if (epoch + 1) % 300 == 0:\n",
        "        print('epoch: {:4d} loss: {:5f} train_acc: {:5f} test_acc: {:5f}'.format(epoch + 1, temp_loss, temp_train_acc, temp_test_acc))\n",
        "\n"
      ],
      "execution_count": 42,
      "outputs": [
        {
          "output_type": "stream",
          "text": [
            "epoch:  300 loss: 0.535277 train_acc: 0.912500 test_acc: 0.850000\n",
            "epoch:  600 loss: 0.488176 train_acc: 0.975000 test_acc: 0.950000\n",
            "epoch:  900 loss: 0.461091 train_acc: 0.987500 test_acc: 1.000000\n",
            "epoch: 1200 loss: 0.453735 train_acc: 0.987500 test_acc: 1.000000\n",
            "epoch: 1500 loss: 0.395630 train_acc: 0.987500 test_acc: 1.000000\n"
          ],
          "name": "stdout"
        }
      ]
    },
    {
      "metadata": {
        "id": "JiH517n5g--J",
        "colab_type": "text"
      },
      "cell_type": "markdown",
      "source": [
        "Step 7: Visualization\n"
      ]
    },
    {
      "metadata": {
        "id": "erMPsmn6hAFt",
        "colab_type": "code",
        "colab": {
          "autoexec": {
            "startup": false,
            "wait_interval": 0
          },
          "base_uri": "https://localhost:8080/",
          "height": 376
        },
        "outputId": "ca71d00b-6d99-4be0-f898-5d6f0cabec39",
        "executionInfo": {
          "status": "ok",
          "timestamp": 1523925183828,
          "user_tz": -330,
          "elapsed": 1122,
          "user": {
            "displayName": "karthic rao",
            "photoUrl": "//lh4.googleusercontent.com/-IjQPV2IT_dg/AAAAAAAAAAI/AAAAAAAAAKY/koCnnupHc0Y/s50-c-k-no/photo.jpg",
            "userId": "117034387844131328042"
          }
        }
      },
      "cell_type": "code",
      "source": [
        "# Visualization of the results\n",
        "# loss function\n",
        "plt.plot(loss_trace)\n",
        "plt.title('Cross Entropy Loss')\n",
        "plt.xlabel('epoch')\n",
        "plt.ylabel('loss')\n",
        "plt.show()"
      ],
      "execution_count": 43,
      "outputs": [
        {
          "output_type": "display_data",
          "data": {
            "image/png": "[encoded data removed]",
            "text/plain": [
              "<matplotlib.figure.Figure at 0x7f5db1284750>"
            ]
          },
          "metadata": {
            "tags": []
          }
        }
      ]
    },
    {
      "metadata": {
        "id": "jvLFR-DwhGka",
        "colab_type": "text"
      },
      "cell_type": "markdown",
      "source": [
        "Accuracy"
      ]
    },
    {
      "metadata": {
        "id": "gZAWyJRVhD09",
        "colab_type": "code",
        "colab": {
          "autoexec": {
            "startup": false,
            "wait_interval": 0
          },
          "base_uri": "https://localhost:8080/",
          "height": 376
        },
        "outputId": "ddb2ee9e-5289-4e13-8755-846e68f6b065",
        "executionInfo": {
          "status": "ok",
          "timestamp": 1523925184928,
          "user_tz": -330,
          "elapsed": 896,
          "user": {
            "displayName": "karthic rao",
            "photoUrl": "//lh4.googleusercontent.com/-IjQPV2IT_dg/AAAAAAAAAAI/AAAAAAAAAKY/koCnnupHc0Y/s50-c-k-no/photo.jpg",
            "userId": "117034387844131328042"
          }
        }
      },
      "cell_type": "code",
      "source": [
        "plt.plot(train_acc, 'b-', label='train accuracy')\n",
        "plt.plot(test_acc, 'k-', label='test accuracy')\n",
        "plt.xlabel('epoch')\n",
        "plt.ylabel('accuracy')\n",
        "plt.title('Train and Test Accuracy')\n",
        "plt.legend(loc='best')\n",
        "plt.show()"
      ],
      "execution_count": 44,
      "outputs": [
        {
          "output_type": "display_data",
          "data": {
            "image/png": "[encoded data removed]",
            "text/plain": [
              "<matplotlib.figure.Figure at 0x7f5db1206ad0>"
            ]
          },
          "metadata": {
            "tags": []
          }
        }
      ]
    },
    {
      "metadata": {
        "id": "i_JomYw4gShj",
        "colab_type": "text"
      },
      "cell_type": "markdown",
      "source": [
        ""
      ]
    }
  ]
}