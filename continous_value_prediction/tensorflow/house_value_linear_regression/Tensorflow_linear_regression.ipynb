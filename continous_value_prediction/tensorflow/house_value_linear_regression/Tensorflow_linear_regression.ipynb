{
  "nbformat": 4,
  "nbformat_minor": 0,
  "metadata": {
    "colab": {
      "name": "Tensorflow_linear_regression.ipynb",
      "version": "0.3.2",
      "views": {},
      "default_view": {},
      "provenance": [
        {
          "file_id": "1OuoPBkx08I7mA8Iq1KoGxC0CwX1K4qZU",
          "timestamp": 1524981579170
        }
      ],
      "collapsed_sections": []
    },
    "kernelspec": {
      "name": "python2",
      "display_name": "Python 2"
    }
  },
  "cells": [
    {
      "metadata": {
        "id": "FpLLRk-3Etvu",
        "colab_type": "code",
        "colab": {
          "autoexec": {
            "startup": false,
            "wait_interval": 0
          },
          "base_uri": "https://localhost:8080/",
          "height": 34
        },
        "outputId": "61d8deca-d588-406b-8633-c4dd5a32ac05",
        "executionInfo": {
          "status": "ok",
          "timestamp": 1523339631511,
          "user_tz": -330,
          "elapsed": 1657,
          "user": {
            "displayName": "karthic rao",
            "photoUrl": "//lh4.googleusercontent.com/-IjQPV2IT_dg/AAAAAAAAAAI/AAAAAAAAAKY/koCnnupHc0Y/s50-c-k-no/photo.jpg",
            "userId": "117034387844131328042"
          }
        }
      },
      "cell_type": "code",
      "source": [
        "# import tensorflow \n",
        "import tensorflow as tf \n",
        "\n",
        "# define a tensorflow constant \n",
        "a = tf.constant(1)\n",
        "\n",
        "# print the type \n",
        "#print(type(a))\n",
        "\n",
        "# creating arrays and converting them to tensors.\n",
        "b = tf.constant([1 , 4, 555, 650])\n",
        "\n",
        "# print the tensor array type \n",
        "#print(type(b))\n",
        "\n",
        "# define constant tensors\n",
        "c = tf.constant(4)\n",
        "d = tf.constant(6)\n",
        "# Multiply the tensors\n",
        "e = c * d\n",
        "print(type(e))"
      ],
      "execution_count": 0,
      "outputs": [
        {
          "output_type": "stream",
          "text": [
            "<class 'tensorflow.python.framework.ops.Tensor'>\n"
          ],
          "name": "stdout"
        }
      ]
    },
    {
      "metadata": {
        "id": "98WD8fkFNY3I",
        "colab_type": "code",
        "colab": {
          "autoexec": {
            "startup": false,
            "wait_interval": 0
          }
        }
      },
      "cell_type": "code",
      "source": [
        "import tensorflow as tf\n",
        "# Create TensorFlow object called hello_constant\n",
        "hello_constant = tf.constant('Hello World!')\n",
        "# create a tensorflow session.\n",
        "with tf.Session() as sess:\n",
        "    # Run the tf.constant operation in the session\n",
        "    output = sess.run(hello_constant)\n",
        "    print(output)"
      ],
      "execution_count": 0,
      "outputs": []
    },
    {
      "metadata": {
        "id": "Fa0yshMNPqWv",
        "colab_type": "code",
        "colab": {
          "autoexec": {
            "startup": false,
            "wait_interval": 0
          },
          "base_uri": "https://localhost:8080/",
          "height": 34
        },
        "outputId": "0af6bafb-9866-48cb-88ce-ebd4792d905e",
        "executionInfo": {
          "status": "ok",
          "timestamp": 1523341904694,
          "user_tz": -330,
          "elapsed": 1684,
          "user": {
            "displayName": "karthic rao",
            "photoUrl": "//lh4.googleusercontent.com/-IjQPV2IT_dg/AAAAAAAAAAI/AAAAAAAAAKY/koCnnupHc0Y/s50-c-k-no/photo.jpg",
            "userId": "117034387844131328042"
          }
        }
      },
      "cell_type": "code",
      "source": [
        "import tensorflow as tf\n",
        "# Create TensorFlow object called hello_constant\n",
        "c = tf.constant(4)\n",
        "d = tf.constant(7)\n",
        "\n",
        "e = c * d\n",
        "# create a tensorflow session.\n",
        "with tf.Session() as sess:\n",
        "    # Run the tf.constant operation in the session\n",
        "    output = sess.run(e)\n",
        "    print(output)"
      ],
      "execution_count": 0,
      "outputs": [
        {
          "output_type": "stream",
          "text": [
            "28\n"
          ],
          "name": "stdout"
        }
      ]
    },
    {
      "metadata": {
        "id": "WrU-v6tzQZPe",
        "colab_type": "code",
        "colab": {
          "autoexec": {
            "startup": false,
            "wait_interval": 0
          },
          "base_uri": "https://localhost:8080/",
          "height": 34
        },
        "outputId": "45437aca-c463-4935-e3df-f6bc870b7b8f",
        "executionInfo": {
          "status": "ok",
          "timestamp": 1523342959014,
          "user_tz": -330,
          "elapsed": 904,
          "user": {
            "displayName": "karthic rao",
            "photoUrl": "//lh4.googleusercontent.com/-IjQPV2IT_dg/AAAAAAAAAAI/AAAAAAAAAKY/koCnnupHc0Y/s50-c-k-no/photo.jpg",
            "userId": "117034387844131328042"
          }
        }
      },
      "cell_type": "code",
      "source": [
        "import tensorflow as tf\n",
        "# Creating the placeholder \n",
        "x = tf.placeholder(tf.string)\n",
        "\n",
        "with tf.Session() as sess:\n",
        "    output = sess.run(x, feed_dict={x: 'Hello PES Mandya'})\n",
        "    print(output)"
      ],
      "execution_count": 0,
      "outputs": [
        {
          "output_type": "stream",
          "text": [
            "Hello PES Mandya\n"
          ],
          "name": "stdout"
        }
      ]
    },
    {
      "metadata": {
        "id": "Z8WPPb6pUxx6",
        "colab_type": "code",
        "colab": {
          "autoexec": {
            "startup": false,
            "wait_interval": 0
          },
          "base_uri": "https://localhost:8080/",
          "height": 54
        },
        "outputId": "937eb294-d4ee-4179-f048-8f077f36f565",
        "executionInfo": {
          "status": "ok",
          "timestamp": 1523343181060,
          "user_tz": -330,
          "elapsed": 961,
          "user": {
            "displayName": "karthic rao",
            "photoUrl": "//lh4.googleusercontent.com/-IjQPV2IT_dg/AAAAAAAAAAI/AAAAAAAAAKY/koCnnupHc0Y/s50-c-k-no/photo.jpg",
            "userId": "117034387844131328042"
          }
        }
      },
      "cell_type": "code",
      "source": [
        "import tensorflow as tf\n",
        "x = tf.placeholder(tf.string)\n",
        "y = tf.placeholder(tf.int32)\n",
        "z = tf.placeholder(tf.float32)\n",
        "with tf.Session() as sess:\n",
        "    output = sess.run([x,y,z], feed_dict={x: 'Test String', y: 123, \n",
        "                                          z: 45.67})\n",
        "    print(output)"
      ],
      "execution_count": 0,
      "outputs": [
        {
          "output_type": "stream",
          "text": [
            "[array('Test String', dtype=object), array(123, dtype=int32), array(45.67, dtype=float32)]\n"
          ],
          "name": "stdout"
        }
      ]
    },
    {
      "metadata": {
        "id": "zMB5RPOIVzrx",
        "colab_type": "code",
        "colab": {
          "autoexec": {
            "startup": false,
            "wait_interval": 0
          },
          "base_uri": "https://localhost:8080/",
          "height": 34
        },
        "outputId": "aef91f21-4a01-4242-f557-e89993cb3e4d",
        "executionInfo": {
          "status": "ok",
          "timestamp": 1523343467983,
          "user_tz": -330,
          "elapsed": 911,
          "user": {
            "displayName": "karthic rao",
            "photoUrl": "//lh4.googleusercontent.com/-IjQPV2IT_dg/AAAAAAAAAAI/AAAAAAAAAKY/koCnnupHc0Y/s50-c-k-no/photo.jpg",
            "userId": "117034387844131328042"
          }
        }
      },
      "cell_type": "code",
      "source": [
        "import tensorflow as tf\n",
        "\n",
        "# Adding two integers using tf.add\n",
        "x = tf.add(5, 2)\n",
        "\n",
        "# Create a session to evaluate x\n",
        "with tf.Session() as sess:\n",
        "  print(sess.run(x))"
      ],
      "execution_count": 0,
      "outputs": [
        {
          "output_type": "stream",
          "text": [
            "7\n"
          ],
          "name": "stdout"
        }
      ]
    },
    {
      "metadata": {
        "id": "s2UY04HaWmBw",
        "colab_type": "text"
      },
      "cell_type": "markdown",
      "source": [
        "##Create two placeholders representing integers and multiply both using tf.multiply. Create a session and run supply the values using runtime"
      ]
    },
    {
      "metadata": {
        "id": "jtBfL_YIXu4X",
        "colab_type": "code",
        "colab": {
          "autoexec": {
            "startup": false,
            "wait_interval": 0
          },
          "base_uri": "https://localhost:8080/",
          "height": 34
        },
        "outputId": "5d47efad-b805-46c7-a967-163ea0d93f39",
        "executionInfo": {
          "status": "ok",
          "timestamp": 1523344012482,
          "user_tz": -330,
          "elapsed": 1078,
          "user": {
            "displayName": "karthic rao",
            "photoUrl": "//lh4.googleusercontent.com/-IjQPV2IT_dg/AAAAAAAAAAI/AAAAAAAAAKY/koCnnupHc0Y/s50-c-k-no/photo.jpg",
            "userId": "117034387844131328042"
          }
        }
      },
      "cell_type": "code",
      "source": [
        "import tensorflow as tf\n",
        "\n",
        "# Create two placeholders\n",
        "x = tf.placeholder(tf.int32)\n",
        "y = tf.placeholder(tf.int32)\n",
        "\n",
        "# Create a placeholder for multiplying\n",
        "z = tf.multiply(x , y)\n",
        "\n",
        "# Create a session to evaluate x and y\n",
        "with tf.Session() as sess:\n",
        "  output = sess.run(z, feed_dict={x : 5, y : 6})\n",
        "  print(output)"
      ],
      "execution_count": 0,
      "outputs": [
        {
          "output_type": "stream",
          "text": [
            "30\n"
          ],
          "name": "stdout"
        }
      ]
    },
    {
      "metadata": {
        "id": "Y9Zz3jxHbLlc",
        "colab_type": "code",
        "colab": {
          "autoexec": {
            "startup": false,
            "wait_interval": 0
          },
          "base_uri": "https://localhost:8080/",
          "height": 565
        },
        "outputId": "123c4e79-2507-4661-cfbe-67486885cc06",
        "executionInfo": {
          "status": "ok",
          "timestamp": 1524980983060,
          "user_tz": -330,
          "elapsed": 4718,
          "user": {
            "displayName": "karthic rao",
            "photoUrl": "//lh4.googleusercontent.com/-IjQPV2IT_dg/AAAAAAAAAAI/AAAAAAAAAKY/koCnnupHc0Y/s50-c-k-no/photo.jpg",
            "userId": "117034387844131328042"
          }
        }
      },
      "cell_type": "code",
      "source": [
        "import tensorflow as tf\n",
        "import numpy\n",
        "import pandas as pd\n",
        "import matplotlib.pyplot as plt\n",
        "from sklearn.model_selection import train_test_split\n",
        "\n",
        "\n",
        "# Train a data set\n",
        "\n",
        "data = pd.read_csv(\"https://goo.gl/PQXxZ8\")\n",
        "size_data = data[\"Size\"].values\n",
        "price_data = data[\"Price\"].values\n",
        "\n",
        "size_data, size_data_test, price_data, price_data_test = train_test_split(\n",
        "     size_data, price_data, test_size=0.33, random_state=42)\n",
        "# Test a data set\n",
        "\n",
        "\n",
        "def normalize(array): \n",
        "    return (array - array.mean()) / array.std()\n",
        "\n",
        "# Normalize a data set\n",
        "\n",
        "size_data_n = normalize(size_data)\n",
        "price_data_n = normalize(price_data)\n",
        "\n",
        "size_data_test_n = normalize(size_data_test)\n",
        "price_data_test_n = normalize(price_data_test)\n",
        "\n",
        "# Display a plot\n",
        "plt.plot(size_data, price_data, 'ro', label='Samples data')\n",
        "plt.legend()\n",
        "plt.draw()\n",
        "\n",
        "samples_number = price_data_n.size\n",
        "\n",
        "# TF graph input\n",
        "X = tf.placeholder(\"float\")\n",
        "Y = tf.placeholder(\"float\")\n",
        "\n",
        "# Create a model\n",
        "\n",
        "# Set model weights\n",
        "W = tf.Variable(numpy.random.randn(), name=\"weight\")\n",
        "b = tf.Variable(numpy.random.randn(), name=\"bias\")\n",
        "\n",
        "# Set parameters\n",
        "learning_rate = 0.1\n",
        "training_iteration = 20\n",
        "\n",
        "# Construct a linear model\n",
        "model = tf.add(tf.multiply(X, W), b)\n",
        "\n",
        "# Minimize squared errors\n",
        "cost_function = tf.reduce_sum(tf.pow(model - Y, 2))/(2 * samples_number) #L2 loss\n",
        "optimizer = tf.train.GradientDescentOptimizer(learning_rate).minimize(cost_function) #Gradient descent\n",
        "\n",
        "# Initialize variables\n",
        "init = tf.initialize_all_variables()\n",
        "\n",
        "# Launch a graph\n",
        "with tf.Session() as sess:\n",
        "    sess.run(init)\n",
        "\n",
        "    display_step = 20\n",
        "    # Fit all training data\n",
        "    for iteration in range(training_iteration):\n",
        "        for (x, y) in zip(size_data_n, price_data_n):\n",
        "            sess.run(optimizer, feed_dict={X: x, Y: y})\n",
        "\n",
        "        # Display logs per iteration step\n",
        "        if iteration % display_step == 0:\n",
        "            print \"Iteration:\", '%04d' % (iteration + 1), \"cost=\", \"{:.9f}\".format(sess.run(cost_function, feed_dict={X:size_data_n, Y:price_data_n})),\\\n",
        "            \"W=\", sess.run(W), \"b=\", sess.run(b)\n",
        "            \n",
        "    tuning_cost = sess.run(cost_function, feed_dict={X: normalize(size_data_n), Y: normalize(price_data_n)})\n",
        "            \n",
        "    print \"Tuning completed:\", \"cost=\", \"{:.9f}\".format(tuning_cost), \"W=\", sess.run(W), \"b=\", sess.run(b)\n",
        "    \n",
        "    # Validate a tuning model\n",
        "    \n",
        "    testing_cost = sess.run(cost_function, feed_dict={X: size_data_test_n, Y: price_data_test_n})\n",
        "    \n",
        "    print \"Testing data cost:\" , testing_cost\n",
        "    \n",
        "    # Display a plot\n",
        "    plt.figure()\n",
        "    plt.plot(size_data_n, price_data_n, 'ro', label='Normalized samples')\n",
        "    plt.plot(size_data_test_n, price_data_test_n, 'go', label='Normalized testing samples')\n",
        "    plt.plot(size_data_n, sess.run(W) * size_data_n + sess.run(b), label='Fitted line')\n",
        "    plt.legend()\n",
        "    \n",
        "    plt.show()"
      ],
      "execution_count": 0,
      "outputs": [
        {
          "output_type": "stream",
          "text": [
            "Iteration: 0001 cost= 0.321723431 W= 0.30543876 b= -0.05763498\n",
            "Tuning completed: cost= 0.227037847 W= 0.67622584 b= -0.009194074\n",
            "Testing data cost: 0.15530913\n"
          ],
          "name": "stdout"
        },
        {
          "output_type": "display_data",
          "data": {
            "image/png": "[encoded data removed]",
            "text/plain": [
              "<matplotlib.figure.Figure at 0x7efedaba7790>"
            ]
          },
          "metadata": {
            "tags": []
          }
        },
        {
          "output_type": "display_data",
          "data": {
            "image/png": "[encoded data removed]",
            "text/plain": [
              "<matplotlib.figure.Figure at 0x7efeda881ed0>"
            ]
          },
          "metadata": {
            "tags": []
          }
        }
      ]
    },
    {
      "metadata": {
        "id": "9lPZKQAGuhaR",
        "colab_type": "code",
        "colab": {
          "autoexec": {
            "startup": false,
            "wait_interval": 0
          },
          "base_uri": "https://localhost:8080/",
          "height": 600
        },
        "outputId": "c89c5ef5-487a-47d5-d45a-d94c8f6d3ec0",
        "executionInfo": {
          "status": "ok",
          "timestamp": 1524981539918,
          "user_tz": -330,
          "elapsed": 4940,
          "user": {
            "displayName": "karthic rao",
            "photoUrl": "//lh4.googleusercontent.com/-IjQPV2IT_dg/AAAAAAAAAAI/AAAAAAAAAKY/koCnnupHc0Y/s50-c-k-no/photo.jpg",
            "userId": "117034387844131328042"
          }
        }
      },
      "cell_type": "code",
      "source": [
        "import pandas as pd\n",
        "\n",
        "\n",
        "\n",
        "def read_data():\n",
        "  \"\"\"\n",
        "  read the CSV data \n",
        "  \"\"\"\n",
        "  data = pd.read_csv(\"https://goo.gl/PQXxZ8\")\n",
        "  size_data = data[\"Size\"].values\n",
        "  price_data = data[\"Price\"].values\n",
        "  return size_data, price_data\n",
        "\n",
        "# import library to split the data\n",
        "from sklearn.model_selection import train_test_split\n",
        "\n",
        "def split_test_train(size, price):\n",
        "  # split the data, test size = 33%\n",
        "  size_train, size_test, price_train, price_test = train_test_split(size, price, test_size=0.33)\n",
        "  return size_train, size_test, price_train, price_test\n",
        "  \n",
        "# Normalize a data set\n",
        "def normalize(array): \n",
        "    return (array - array.mean()) / array.std()\n",
        "\n",
        "# read the data from the csv file.\n",
        "size, price = read_data()\n",
        "# split the data into testing and training set.\n",
        "size_train, size_test, price_train,price_test = split_test_train(size, price)\n",
        "# print the length of test and train dataset.\n",
        "print(\"Length of the training data: \", len(size_train))\n",
        "print(\"Length of the testing data: \", len(size_test))\n",
        "\n",
        "%matplotlib inline\n",
        "import matplotlib.pyplot as plt\n",
        "\n",
        "# normalize the data\n",
        "size_train = normalize(size_train)\n",
        "price_train = normalize(price_train)\n",
        "\n",
        "size_test = normalize(size_test)\n",
        "price_test = normalize(price_test)\n",
        "\n",
        "# plot the normalized data\n",
        "plt.scatter(size_train, price_train, label='Samples data')\n",
        "plt.draw()\n",
        "\n",
        "samples_number = price_train.size\n",
        "\n",
        "import tensorflow as tf\n",
        "import numpy as np\n",
        " \n",
        "\n",
        "def get_model_tensors():\n",
        "  \"\"\"\n",
        "  function obtain model tensor\n",
        "  \"\"\"\n",
        "  X = tf.placeholder(\"float\")\n",
        "  Y = tf.placeholder(\"float\")\n",
        "  # Create a model\n",
        "  a = tf.Variable(np.random.randn(), name=\"weight\")\n",
        "  b = tf.Variable(np.random.randn(), name=\"bias\")\n",
        "  model = tf.add(tf.multiply(X, a), b)\n",
        "  return X, Y, a, b, model\n",
        "\n",
        "def get_cost_optimizer_tensor(Y, model, size, learning_rate):\n",
        "  # cost function tensor.\n",
        "  cost_function = tf.reduce_sum(tf.pow(model - Y, 2))/(2 * size) \n",
        "  # gradient descent tensor.\n",
        "  gradient_descent = tf.train.GradientDescentOptimizer(learning_rate) \n",
        "  # optimization tensor.\n",
        "  optimizer = gradient_descent.minimize(cost_function)\n",
        "  return optimizer, cost_function\n",
        "  \n",
        "# Set parameters\n",
        "learning_rate = 0.1\n",
        "training_iteration = 200\n",
        "\n",
        "X, Y, a, b, model = get_model_tensors()\n",
        "\n",
        "optimizer, cost_function = get_cost_optimizer_tensor(Y, model,len(size_train), learning_rate )\n",
        "\n",
        "\n",
        "\n",
        "# Initialize variables\n",
        "init = tf.initialize_all_variables()\n",
        "\n",
        "# Launch a graph\n",
        "with tf.Session() as sess:\n",
        "    sess.run(init)\n",
        "\n",
        "    display_step = 200\n",
        "    # Fit all training data\n",
        "    for iteration in range(training_iteration):\n",
        "        for (x, y) in zip(size_train, price_train):\n",
        "            sess.run(optimizer, feed_dict={X: x, Y: y})\n",
        "\n",
        "        # Display logs per iteration step\n",
        "        if iteration % display_step == 0:\n",
        "            print \"Iteration:\", '%04d' % (iteration + 1), \"cost=\", \n",
        "            \"{:.9f}\".format(sess.run(cost_function, feed_dict={X:size_train, Y:price_train})),\\\n",
        "            \"a=\", sess.run(a), \"b=\", sess.run(b)\n",
        "            \n",
        "    tuning_cost = sess.run(cost_function, feed_dict={X: normalize(size_train), Y: normalize(price_train)})\n",
        "            \n",
        "    print \"Tuning completed:\", \"cost=\", \"{:.9f}\\n\".format(tuning_cost), \"a=\", sess.run(a), \"b=\", sess.run(b)\n",
        "    \n",
        "    # Validate a tuning model\n",
        "    \n",
        "    testing_cost = sess.run(cost_function, feed_dict={X: size_test, Y: price_test})\n",
        "    \n",
        "    print \"Testing data cost:\" , testing_cost\n",
        "    \n",
        "    # Display a plot\n",
        "    plt.figure()\n",
        "    plt.plot(size_train, price_train, 'ro', label='Normalized samples')\n",
        "    plt.plot(size_test, price_test, 'go', label='Normalized testing samples')\n",
        "    plt.plot(size_train, sess.run(a) * size_train + sess.run(b), label='Fitted line')\n",
        "    plt.legend()\n",
        "    \n",
        "    plt.show()\n",
        "    \n",
        "    "
      ],
      "execution_count": 0,
      "outputs": [
        {
          "output_type": "stream",
          "text": [
            "('Length of the training data: ', 521)\n",
            "('Length of the testing data: ', 258)\n",
            "Iteration: 0001 cost= Tuning completed: cost= 0.243420109\n",
            "a= 0.568231 b= -0.07795709\n",
            "Testing data cost: 0.14779551\n"
          ],
          "name": "stdout"
        },
        {
          "output_type": "display_data",
          "data": {
            "image/png": "[encoded data removed]",
            "text/plain": [
              "<matplotlib.figure.Figure at 0x7efeda5ed150>"
            ]
          },
          "metadata": {
            "tags": []
          }
        },
        {
          "output_type": "display_data",
          "data": {
            "image/png": "[encoded data removed]",
            "text/plain": [
              "<matplotlib.figure.Figure at 0x7efedabb9090>"
            ]
          },
          "metadata": {
            "tags": []
          }
        }
      ]
    }
  ]
}